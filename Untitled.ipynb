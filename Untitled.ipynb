{
 "cells": [
  {
   "cell_type": "code",
   "execution_count": 1,
   "id": "f1146480",
   "metadata": {},
   "outputs": [
    {
     "name": "stdout",
     "output_type": "stream",
     "text": [
      "GPU 0: Memory pool limit set to 2.95 GB\n"
     ]
    }
   ],
   "source": [
    "from elysium import Tensor"
   ]
  },
  {
   "cell_type": "code",
   "execution_count": 2,
   "id": "26f404a3",
   "metadata": {},
   "outputs": [],
   "source": [
    "a = Tensor([1,2,3],requires_grad=True,device='gpu')\n",
    "b = Tensor([3,4,5],device='gpu')\n",
    "c = a - b"
   ]
  },
  {
   "cell_type": "code",
   "execution_count": 3,
   "id": "52701991",
   "metadata": {},
   "outputs": [
    {
     "data": {
      "text/plain": [
       "tensor([-2., -2., -2.] ,grad_fn<AddBackwardgpu> ,dtype=elysium.float32)"
      ]
     },
     "execution_count": 3,
     "metadata": {},
     "output_type": "execute_result"
    }
   ],
   "source": [
    "c"
   ]
  },
  {
   "cell_type": "code",
   "execution_count": 4,
   "id": "978571a0",
   "metadata": {},
   "outputs": [
    {
     "name": "stdout",
     "output_type": "stream",
     "text": [
      "<elysium.autograd.base.Context object at 0x7f4efc254d10>\n"
     ]
    }
   ],
   "source": [
    "print(c._ctx)"
   ]
  },
  {
   "cell_type": "code",
   "execution_count": 5,
   "id": "d21fdc76",
   "metadata": {},
   "outputs": [],
   "source": [
    "x = c.detach()"
   ]
  },
  {
   "cell_type": "code",
   "execution_count": 6,
   "id": "bedd891f",
   "metadata": {},
   "outputs": [
    {
     "data": {
      "text/plain": [
       "tensor([-2., -2., -2.] ,dtype=elysium.float32)"
      ]
     },
     "execution_count": 6,
     "metadata": {},
     "output_type": "execute_result"
    }
   ],
   "source": [
    "x"
   ]
  },
  {
   "cell_type": "code",
   "execution_count": 7,
   "id": "410c3795",
   "metadata": {},
   "outputs": [
    {
     "data": {
      "text/plain": [
       "'gpu'"
      ]
     },
     "execution_count": 7,
     "metadata": {},
     "output_type": "execute_result"
    }
   ],
   "source": [
    "c.device"
   ]
  },
  {
   "cell_type": "code",
   "execution_count": 1,
   "id": "311436d3",
   "metadata": {},
   "outputs": [
    {
     "name": "stdout",
     "output_type": "stream",
     "text": [
      "(None,)\n"
     ]
    }
   ],
   "source": [
    "a = (None,)\n",
    "print(a)"
   ]
  },
  {
   "cell_type": "code",
   "execution_count": null,
   "id": "488712ca",
   "metadata": {},
   "outputs": [],
   "source": []
  }
 ],
 "metadata": {
  "kernelspec": {
   "display_name": "Python 3",
   "language": "python",
   "name": "python3"
  },
  "language_info": {
   "codemirror_mode": {
    "name": "ipython",
    "version": 3
   },
   "file_extension": ".py",
   "mimetype": "text/x-python",
   "name": "python",
   "nbconvert_exporter": "python",
   "pygments_lexer": "ipython3",
   "version": "3.7.13"
  }
 },
 "nbformat": 4,
 "nbformat_minor": 5
}
